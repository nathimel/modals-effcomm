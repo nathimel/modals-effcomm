{
 "cells": [
  {
   "cell_type": "code",
   "execution_count": 206,
   "metadata": {},
   "outputs": [],
   "source": [
    "import pandas as pd\n",
    "import plotnine as pn"
   ]
  },
  {
   "cell_type": "code",
   "execution_count": 207,
   "metadata": {},
   "outputs": [],
   "source": [
    "# Load prior\n",
    "estimated_prior = {\n",
    "    'strong+\\ncircumstantial': 0.31802426343154244,\n",
    "    'strong+\\ndeontic': 0.25375505488157135,\n",
    "    'strong+\\nepistemic': 0.10427498555748123,\n",
    "    'weak+\\ncircumstantial': 0.14298093587521662,\n",
    "    'weak+\\ndeontic': 0.042027729636048526,\n",
    "    'weak+\\nepistemic': 0.1389370306181398,\n",
    "}\n",
    "\n",
    "meaning_points = list(estimated_prior.keys())\n",
    "probabilities = list(estimated_prior.values())\n"
   ]
  },
  {
   "cell_type": "code",
   "execution_count": 208,
   "metadata": {},
   "outputs": [
    {
     "data": {
      "text/html": [
       "<div>\n",
       "<style scoped>\n",
       "    .dataframe tbody tr th:only-of-type {\n",
       "        vertical-align: middle;\n",
       "    }\n",
       "\n",
       "    .dataframe tbody tr th {\n",
       "        vertical-align: top;\n",
       "    }\n",
       "\n",
       "    .dataframe thead th {\n",
       "        text-align: right;\n",
       "    }\n",
       "</style>\n",
       "<table border=\"1\" class=\"dataframe\">\n",
       "  <thead>\n",
       "    <tr style=\"text-align: right;\">\n",
       "      <th></th>\n",
       "      <th>meaning point</th>\n",
       "      <th>probability</th>\n",
       "      <th>prior</th>\n",
       "    </tr>\n",
       "  </thead>\n",
       "  <tbody>\n",
       "    <tr>\n",
       "      <th>0</th>\n",
       "      <td>strong+\\ncircumstantial</td>\n",
       "      <td>0.318024</td>\n",
       "      <td>estimated</td>\n",
       "    </tr>\n",
       "    <tr>\n",
       "      <th>1</th>\n",
       "      <td>strong+\\ndeontic</td>\n",
       "      <td>0.253755</td>\n",
       "      <td>estimated</td>\n",
       "    </tr>\n",
       "    <tr>\n",
       "      <th>2</th>\n",
       "      <td>strong+\\nepistemic</td>\n",
       "      <td>0.104275</td>\n",
       "      <td>estimated</td>\n",
       "    </tr>\n",
       "    <tr>\n",
       "      <th>3</th>\n",
       "      <td>weak+\\ncircumstantial</td>\n",
       "      <td>0.142981</td>\n",
       "      <td>estimated</td>\n",
       "    </tr>\n",
       "    <tr>\n",
       "      <th>4</th>\n",
       "      <td>weak+\\ndeontic</td>\n",
       "      <td>0.042028</td>\n",
       "      <td>estimated</td>\n",
       "    </tr>\n",
       "    <tr>\n",
       "      <th>5</th>\n",
       "      <td>weak+\\nepistemic</td>\n",
       "      <td>0.138937</td>\n",
       "      <td>estimated</td>\n",
       "    </tr>\n",
       "  </tbody>\n",
       "</table>\n",
       "</div>"
      ],
      "text/plain": [
       "             meaning point  probability      prior\n",
       "0  strong+\\ncircumstantial     0.318024  estimated\n",
       "1         strong+\\ndeontic     0.253755  estimated\n",
       "2       strong+\\nepistemic     0.104275  estimated\n",
       "3    weak+\\ncircumstantial     0.142981  estimated\n",
       "4           weak+\\ndeontic     0.042028  estimated\n",
       "5         weak+\\nepistemic     0.138937  estimated"
      ]
     },
     "execution_count": 208,
     "metadata": {},
     "output_type": "execute_result"
    }
   ],
   "source": [
    "df_estimated_prior = pd.DataFrame(\n",
    "    {\n",
    "        'meaning point': meaning_points,\n",
    "        'probability': probabilities,\n",
    "        'prior': ['estimated'] * len(meaning_points)        \n",
    "    }\n",
    ")\n",
    "df_estimated_prior"
   ]
  },
  {
   "cell_type": "code",
   "execution_count": 209,
   "metadata": {},
   "outputs": [],
   "source": [
    "df_uniform_prior = pd.DataFrame(\n",
    "    {\n",
    "        'meaning point': meaning_points,\n",
    "        'probability': [1/len(meaning_points)] * len(meaning_points),\n",
    "        'prior': ['uniform'] * len(meaning_points)\n",
    "    }\n",
    ")"
   ]
  },
  {
   "cell_type": "code",
   "execution_count": 210,
   "metadata": {},
   "outputs": [
    {
     "data": {
      "text/html": [
       "<div>\n",
       "<style scoped>\n",
       "    .dataframe tbody tr th:only-of-type {\n",
       "        vertical-align: middle;\n",
       "    }\n",
       "\n",
       "    .dataframe tbody tr th {\n",
       "        vertical-align: top;\n",
       "    }\n",
       "\n",
       "    .dataframe thead th {\n",
       "        text-align: right;\n",
       "    }\n",
       "</style>\n",
       "<table border=\"1\" class=\"dataframe\">\n",
       "  <thead>\n",
       "    <tr style=\"text-align: right;\">\n",
       "      <th></th>\n",
       "      <th>meaning point</th>\n",
       "      <th>probability</th>\n",
       "      <th>prior</th>\n",
       "    </tr>\n",
       "  </thead>\n",
       "  <tbody>\n",
       "    <tr>\n",
       "      <th>0</th>\n",
       "      <td>strong+\\ncircumstantial</td>\n",
       "      <td>0.318024</td>\n",
       "      <td>estimated</td>\n",
       "    </tr>\n",
       "    <tr>\n",
       "      <th>1</th>\n",
       "      <td>strong+\\ndeontic</td>\n",
       "      <td>0.253755</td>\n",
       "      <td>estimated</td>\n",
       "    </tr>\n",
       "    <tr>\n",
       "      <th>2</th>\n",
       "      <td>strong+\\nepistemic</td>\n",
       "      <td>0.104275</td>\n",
       "      <td>estimated</td>\n",
       "    </tr>\n",
       "    <tr>\n",
       "      <th>3</th>\n",
       "      <td>weak+\\ncircumstantial</td>\n",
       "      <td>0.142981</td>\n",
       "      <td>estimated</td>\n",
       "    </tr>\n",
       "    <tr>\n",
       "      <th>4</th>\n",
       "      <td>weak+\\ndeontic</td>\n",
       "      <td>0.042028</td>\n",
       "      <td>estimated</td>\n",
       "    </tr>\n",
       "    <tr>\n",
       "      <th>5</th>\n",
       "      <td>weak+\\nepistemic</td>\n",
       "      <td>0.138937</td>\n",
       "      <td>estimated</td>\n",
       "    </tr>\n",
       "    <tr>\n",
       "      <th>0</th>\n",
       "      <td>strong+\\ncircumstantial</td>\n",
       "      <td>0.166667</td>\n",
       "      <td>uniform</td>\n",
       "    </tr>\n",
       "    <tr>\n",
       "      <th>1</th>\n",
       "      <td>strong+\\ndeontic</td>\n",
       "      <td>0.166667</td>\n",
       "      <td>uniform</td>\n",
       "    </tr>\n",
       "    <tr>\n",
       "      <th>2</th>\n",
       "      <td>strong+\\nepistemic</td>\n",
       "      <td>0.166667</td>\n",
       "      <td>uniform</td>\n",
       "    </tr>\n",
       "    <tr>\n",
       "      <th>3</th>\n",
       "      <td>weak+\\ncircumstantial</td>\n",
       "      <td>0.166667</td>\n",
       "      <td>uniform</td>\n",
       "    </tr>\n",
       "    <tr>\n",
       "      <th>4</th>\n",
       "      <td>weak+\\ndeontic</td>\n",
       "      <td>0.166667</td>\n",
       "      <td>uniform</td>\n",
       "    </tr>\n",
       "    <tr>\n",
       "      <th>5</th>\n",
       "      <td>weak+\\nepistemic</td>\n",
       "      <td>0.166667</td>\n",
       "      <td>uniform</td>\n",
       "    </tr>\n",
       "  </tbody>\n",
       "</table>\n",
       "</div>"
      ],
      "text/plain": [
       "             meaning point  probability      prior\n",
       "0  strong+\\ncircumstantial     0.318024  estimated\n",
       "1         strong+\\ndeontic     0.253755  estimated\n",
       "2       strong+\\nepistemic     0.104275  estimated\n",
       "3    weak+\\ncircumstantial     0.142981  estimated\n",
       "4           weak+\\ndeontic     0.042028  estimated\n",
       "5         weak+\\nepistemic     0.138937  estimated\n",
       "0  strong+\\ncircumstantial     0.166667    uniform\n",
       "1         strong+\\ndeontic     0.166667    uniform\n",
       "2       strong+\\nepistemic     0.166667    uniform\n",
       "3    weak+\\ncircumstantial     0.166667    uniform\n",
       "4           weak+\\ndeontic     0.166667    uniform\n",
       "5         weak+\\nepistemic     0.166667    uniform"
      ]
     },
     "execution_count": 210,
     "metadata": {},
     "output_type": "execute_result"
    }
   ],
   "source": [
    "data = pd.concat([df_estimated_prior, df_uniform_prior])\n",
    "data"
   ]
  },
  {
   "cell_type": "code",
   "execution_count": 211,
   "metadata": {},
   "outputs": [
    {
     "data": {
      "image/png": "[encoded data removed]",
      "text/plain": [
       "<Figure size 640x480 with 1 Axes>"
      ]
     },
     "metadata": {},
     "output_type": "display_data"
    },
    {
     "data": {
      "text/plain": [
       "<ggplot: (360471405)>"
      ]
     },
     "execution_count": 211,
     "metadata": {},
     "output_type": "execute_result"
    }
   ],
   "source": [
    "barplot = (\n",
    "    pn.ggplot(\n",
    "        data=data, \n",
    "        mapping=pn.aes(x='meaning point', y='probability')\n",
    "    )\n",
    "    + pn.geom_bar(\n",
    "        stat=\"identity\", \n",
    "        position=\"dodge\",\n",
    "        mapping=pn.aes(\n",
    "            fill='prior',\n",
    "            color='prior',\n",
    "        ),\n",
    "    )\n",
    "    + pn.theme_classic()\n",
    ")\n",
    "barplot"
   ]
  },
  {
   "cell_type": "code",
   "execution_count": 212,
   "metadata": {},
   "outputs": [],
   "source": [
    "# or should we use a tile plot?\n",
    "df_estimated_prior = pd.DataFrame(\n",
    "    data=[\n",
    "    ( 'strong', 'circumstantial', 0.31802426343154244, ),\n",
    "    ( 'strong', 'deontic', 0.25375505488157135, ),\n",
    "    ( 'strong', 'epistemic', 0.10427498555748123, ),\n",
    "    ( 'weak', 'circumstantial', 0.14298093587521662, ),\n",
    "    ( 'weak', 'deontic', 0.042027729636048526, ),\n",
    "    ( 'weak', 'epistemic', 0.1389370306181398, ),\n",
    "    ],\n",
    "    columns=['modal force', 'modal flavor', 'probability',]\n",
    ")"
   ]
  },
  {
   "cell_type": "code",
   "execution_count": 213,
   "metadata": {},
   "outputs": [
    {
     "data": {
      "image/png": "[encoded data removed]",
      "text/plain": [
       "<Figure size 640x480 with 1 Axes>"
      ]
     },
     "metadata": {},
     "output_type": "display_data"
    },
    {
     "data": {
      "text/plain": [
       "<ggplot: (360471459)>"
      ]
     },
     "execution_count": 213,
     "metadata": {},
     "output_type": "execute_result"
    }
   ],
   "source": [
    "\n",
    "heatmap_estimated_plot = (\n",
    "        pn.ggplot(df_estimated_prior, pn.aes(x=\"modal flavor\", y=\"modal force\", fill=\"probability\"))\n",
    "        + pn.geom_tile()\n",
    "        + pn.scale_fill_cmap(limits=[0,1])\n",
    "        + pn.theme(\n",
    "            # axis_text_y=pn.element_blank(),\n",
    "            # axis_text_x=pn.element_blank(),\n",
    "            axis_title_x=pn.element_text(\"modal force\"),\n",
    "            axis_title_y=pn.element_text(\"modal flavor\"),\n",
    "        )\n",
    ")\n",
    "heatmap_estimated_plot"
   ]
  },
  {
   "cell_type": "code",
   "execution_count": 214,
   "metadata": {},
   "outputs": [
    {
     "data": {
      "image/png": "[encoded data removed]",
      "text/plain": [
       "<Figure size 640x480 with 1 Axes>"
      ]
     },
     "metadata": {},
     "output_type": "display_data"
    },
    {
     "data": {
      "text/plain": [
       "<ggplot: (360378561)>"
      ]
     },
     "execution_count": 214,
     "metadata": {},
     "output_type": "execute_result"
    }
   ],
   "source": [
    "df_uniform_prior = pd.DataFrame(\n",
    "    data=[\n",
    "    ( 'strong', 'circumstantial', 1/len(meaning_points), ),\n",
    "    ( 'strong', 'deontic', 1/len(meaning_points), ),\n",
    "    ( 'strong', 'epistemic', 1/len(meaning_points), ),\n",
    "    ( 'weak', 'circumstantial', 1/len(meaning_points), ),\n",
    "    ( 'weak', 'deontic', 1/len(meaning_points), ),\n",
    "    ( 'weak', 'epistemic', 1/len(meaning_points), ),\n",
    "    ],\n",
    "    columns=['modal force', 'modal flavor', 'probability',]\n",
    ")\n",
    "heatmap_uniform_plot = (\n",
    "        pn.ggplot(df_uniform_prior, pn.aes(x=\"modal flavor\", y=\"modal force\", fill=\"probability\"))\n",
    "        + pn.geom_tile()\n",
    "        + pn.scale_fill_cmap(limits=[0,1])\n",
    "        + pn.theme(\n",
    "            # axis_text_y=pn.element_blank(),\n",
    "            # axis_text_x=pn.element_blank(),\n",
    "            axis_title_x=pn.element_text(\"modal force\"),\n",
    "            axis_title_y=pn.element_text(\"modal flavor\"),\n",
    "        )\n",
    ")\n",
    "heatmap_uniform_plot"
   ]
  },
  {
   "cell_type": "code",
   "execution_count": 216,
   "metadata": {},
   "outputs": [
    {
     "name": "stderr",
     "output_type": "stream",
     "text": [
      "/Users/nathanielimel/miniforge3/envs/modals-effcomm/lib/python3.10/site-packages/plotnine/ggplot.py:719: PlotnineWarning: Saving 10 x 10 in image.\n",
      "/Users/nathanielimel/miniforge3/envs/modals-effcomm/lib/python3.10/site-packages/plotnine/ggplot.py:722: PlotnineWarning: Filename: priors\n"
     ]
    }
   ],
   "source": [
    "# save, if u wan\n",
    "\n",
    "# I only like the bar plots, but i'm glad i explored the heatmaps.\n",
    "\n",
    "barplot.save(\"priors\", width=10, height=10, dpi=300)\n"
   ]
  }
 ],
 "metadata": {
  "kernelspec": {
   "display_name": "modals-effcomm",
   "language": "python",
   "name": "python3"
  },
  "language_info": {
   "codemirror_mode": {
    "name": "ipython",
    "version": 3
   },
   "file_extension": ".py",
   "mimetype": "text/x-python",
   "name": "python",
   "nbconvert_exporter": "python",
   "pygments_lexer": "ipython3",
   "version": "3.10.6"
  },
  "orig_nbformat": 4
 },
 "nbformat": 4,
 "nbformat_minor": 2
}
