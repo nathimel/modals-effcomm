{
 "cells": [
  {
   "cell_type": "code",
   "execution_count": 1,
   "metadata": {},
   "outputs": [],
   "source": [
    "import sys\n",
    "import pandas as pd\n",
    "import plotnine as pn\n",
    "from altk.effcomm.tradeoff import interpolate_data\n",
    "from altk.effcomm.analysis import (\n",
    "    get_dataframe,\n",
    "    pearson_analysis,\n",
    "    trade_off_means,\n",
    "    trade_off_ttest,\n",
    ")\n",
    "from misc.file_util import load_languages, load_configs, set_seed\n",
    "from modals.modal_language import uegaki"
   ]
  },
  {
   "cell_type": "code",
   "execution_count": 2,
   "metadata": {},
   "outputs": [],
   "source": [
    "prefix = \"/Users/nathanielimel/clms/projects/modals-effcomm/\""
   ]
  },
  {
   "cell_type": "code",
   "execution_count": 3,
   "metadata": {},
   "outputs": [],
   "source": [
    "config_fn = prefix + \"configs/cogsci/dev_large.yml\"\n",
    "configs = load_configs(config_fn)\n",
    "set_seed(configs[\"random_seed\"])\n",
    "# tell pandas to output all columns\n",
    "pd.set_option(\"display.max_columns\", None)\n",
    "\n",
    "# Load languages\n",
    "langs_fn = prefix + configs[\"file_paths\"][\"artificial_languages\"]\n",
    "nat_langs_fn = prefix + configs[\"file_paths\"][\"natural_languages\"]\n",
    "dom_langs_fn = prefix + configs[\"file_paths\"][\"dominant_languages\"]"
   ]
  },
  {
   "cell_type": "code",
   "execution_count": 4,
   "metadata": {},
   "outputs": [],
   "source": [
    "# Load analysis files\n",
    "analysis_fns = configs[\"file_paths\"][\"analysis\"]\n",
    "df_fn = prefix + analysis_fns[\"data\"]\n",
    "pareto_df_fn = prefix + analysis_fns[\"pareto_data\"]\n",
    "plot_fn = prefix + analysis_fns[\"plot\"]\n",
    "correlations_fn = prefix + analysis_fns[\"correlations\"]\n",
    "means_fn = prefix + analysis_fns[\"means\"]\n",
    "ttest_natural_fn = prefix + analysis_fns[\"ttest_natural\"]\n",
    "ttest_dlsav_fn = prefix + analysis_fns[\"ttest_dlsav\"]"
   ]
  },
  {
   "cell_type": "code",
   "execution_count": 5,
   "metadata": {},
   "outputs": [],
   "source": [
    "# Load languages\n",
    "result_sampled = load_languages(langs_fn)\n",
    "result_dominant = load_languages(dom_langs_fn)\n",
    "langs = result_sampled[\"languages\"]\n",
    "dom_langs = result_dominant[\"languages\"]"
   ]
  },
  {
   "cell_type": "code",
   "execution_count": null,
   "metadata": {},
   "outputs": [],
   "source": [
    "# Record all observations, including duplicates, for statistical analyses\n",
    "subset = [\"complexity\", \"comm_cost\"]\n",
    "kwargs = {\"subset\": subset, \"duplicates\": \"leave\"}\n",
    "\n",
    "data = get_dataframe(langs, **kwargs)\n",
    "pareto_data = get_dataframe(dom_langs, **kwargs)"
   ]
  },
  {
   "attachments": {},
   "cell_type": "markdown",
   "metadata": {},
   "source": [
    "## Plot"
   ]
  },
  {
   "cell_type": "code",
   "execution_count": null,
   "metadata": {},
   "outputs": [],
   "source": [
    "naturalness = configs[\"universal_property\"]\n",
    "\n",
    "# Add counts only for plot\n",
    "plot_data = data.copy()\n",
    "vcs = plot_data.value_counts(subset=subset, sort=False)\n",
    "plot_data = data.drop_duplicates(subset=subset)  # drop dupes from original\n",
    "plot_data = plot_data.sort_values(by=subset)\n",
    "plot_data[\"counts\"] = vcs.values"
   ]
  },
  {
   "attachments": {},
   "cell_type": "markdown",
   "metadata": {},
   "source": [
    "### Inspect data"
   ]
  },
  {
   "cell_type": "code",
   "execution_count": null,
   "metadata": {},
   "outputs": [],
   "source": [
    "data"
   ]
  },
  {
   "cell_type": "code",
   "execution_count": null,
   "metadata": {},
   "outputs": [],
   "source": [
    "# smooth pareto curve again\n",
    "pareto_df = pareto_data[[\"comm_cost\", \"complexity\"]]\n",
    "pareto_points = pareto_df.to_records(index=False).tolist()\n",
    "pareto_points = interpolate_data(pareto_points)\n",
    "pareto_smoothed = pd.DataFrame(pareto_points, columns=[\"comm_cost\", \"complexity\"])\n",
    "\n",
    "# aesthetics for all data\n",
    "kwargs = {\n",
    "    # \"color\": naturalness,\n",
    "}\n",
    "\n",
    "kwargs[\"shape\"] = \"uegaki\"\n",
    "kwargs[\"size\"] = \"uegaki\"\n",
    "\n",
    "# if counts:\n",
    "#     kwargs[\"size\"] = \"counts\"\n",
    "\n",
    "plot = (\n",
    "    # Set data and the axes\n",
    "    pn.ggplot(data=data, mapping=pn.aes(x=\"complexity\", y=\"comm_cost\"))\n",
    "    + pn.scale_y_continuous(limits=[0, 1])\n",
    "    + pn.geom_point(  # all langs\n",
    "        stroke=0,\n",
    "        alpha=1,\n",
    "        mapping=pn.aes(**kwargs),\n",
    "    )\n",
    "    + pn.geom_line(size=1, data=pareto_smoothed)\n",
    "    + pn.xlab(\"Complexity\")\n",
    "    + pn.ylab(\"Communicative cost\")\n",
    "    + pn.scale_color_cmap(\"cividis\")\n",
    "    + pn.theme_classic()\n",
    ")"
   ]
  },
  {
   "cell_type": "code",
   "execution_count": null,
   "metadata": {},
   "outputs": [],
   "source": [
    "print(plot)"
   ]
  },
  {
   "cell_type": "code",
   "execution_count": null,
   "metadata": {},
   "outputs": [],
   "source": [
    "plot.save(\"prior_skewed.png\", width=10, height=10, dpi=300)"
   ]
  }
 ],
 "metadata": {
  "kernelspec": {
   "display_name": "modals-effcomm",
   "language": "python",
   "name": "python3"
  },
  "language_info": {
   "codemirror_mode": {
    "name": "ipython",
    "version": 3
   },
   "file_extension": ".py",
   "mimetype": "text/x-python",
   "name": "python",
   "nbconvert_exporter": "python",
   "pygments_lexer": "ipython3",
   "version": "3.10.6"
  },
  "orig_nbformat": 4,
  "vscode": {
   "interpreter": {
    "hash": "8666bdf6b3d63ff5f48e1de08b74127f3bc5aa89bf763f83403518e20275d70d"
   }
  }
 },
 "nbformat": 4,
 "nbformat_minor": 2
}
